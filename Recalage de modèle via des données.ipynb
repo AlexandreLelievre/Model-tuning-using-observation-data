{
 "cells": [
  {
   "cell_type": "code",
   "execution_count": 1,
   "metadata": {},
   "outputs": [],
   "source": [
    "import numpy as np\n",
    "import matplotlib.pyplot as plt\n",
    "import pandas as pd "
   ]
  },
  {
   "cell_type": "code",
   "execution_count": 2,
   "metadata": {},
   "outputs": [],
   "source": [
    "def temps_chute(h): \n",
    "    g = 9.81\n",
    "    return np.sqrt((2*h)/g)"
   ]
  },
  {
   "cell_type": "code",
   "execution_count": 3,
   "metadata": {},
   "outputs": [],
   "source": [
    "d = {'h': [10, 20, 30, 40, 50, 60], 't_mes': [1.4, 1.95, 2.65, 2.8, 3.25, 3.6]}\n",
    "df = pd.DataFrame(data=d)"
   ]
  },
  {
   "cell_type": "code",
   "execution_count": 4,
   "metadata": {},
   "outputs": [
    {
     "data": {
      "text/html": [
       "<div>\n",
       "<style scoped>\n",
       "    .dataframe tbody tr th:only-of-type {\n",
       "        vertical-align: middle;\n",
       "    }\n",
       "\n",
       "    .dataframe tbody tr th {\n",
       "        vertical-align: top;\n",
       "    }\n",
       "\n",
       "    .dataframe thead th {\n",
       "        text-align: right;\n",
       "    }\n",
       "</style>\n",
       "<table border=\"1\" class=\"dataframe\">\n",
       "  <thead>\n",
       "    <tr style=\"text-align: right;\">\n",
       "      <th></th>\n",
       "      <th>h</th>\n",
       "      <th>t_mes</th>\n",
       "    </tr>\n",
       "  </thead>\n",
       "  <tbody>\n",
       "    <tr>\n",
       "      <th>0</th>\n",
       "      <td>10</td>\n",
       "      <td>1.40</td>\n",
       "    </tr>\n",
       "    <tr>\n",
       "      <th>1</th>\n",
       "      <td>20</td>\n",
       "      <td>1.95</td>\n",
       "    </tr>\n",
       "    <tr>\n",
       "      <th>2</th>\n",
       "      <td>30</td>\n",
       "      <td>2.65</td>\n",
       "    </tr>\n",
       "    <tr>\n",
       "      <th>3</th>\n",
       "      <td>40</td>\n",
       "      <td>2.80</td>\n",
       "    </tr>\n",
       "    <tr>\n",
       "      <th>4</th>\n",
       "      <td>50</td>\n",
       "      <td>3.25</td>\n",
       "    </tr>\n",
       "    <tr>\n",
       "      <th>5</th>\n",
       "      <td>60</td>\n",
       "      <td>3.60</td>\n",
       "    </tr>\n",
       "  </tbody>\n",
       "</table>\n",
       "</div>"
      ],
      "text/plain": [
       "    h  t_mes\n",
       "0  10   1.40\n",
       "1  20   1.95\n",
       "2  30   2.65\n",
       "3  40   2.80\n",
       "4  50   3.25\n",
       "5  60   3.60"
      ]
     },
     "execution_count": 4,
     "metadata": {},
     "output_type": "execute_result"
    }
   ],
   "source": [
    "df"
   ]
  },
  {
   "cell_type": "code",
   "execution_count": 5,
   "metadata": {},
   "outputs": [
    {
     "name": "stdout",
     "output_type": "stream",
     "text": [
      "Paramètres estimés: [9.52309357]\n"
     ]
    }
   ],
   "source": [
    "import numpy as np\n",
    "from scipy.optimize import least_squares\n",
    "\n",
    "# Fonction pour le modèle non linéaire\n",
    "def Ycode_Fn(XX, par): \n",
    "    return np.sqrt((2*XX)/par)\n",
    "    pass\n",
    "\n",
    "# Fonction des résidus\n",
    "def myResids_fn(par, observed, XX):\n",
    "    return (observed - Ycode_Fn(XX, par)) / sigOBS\n",
    "\n",
    "# Paramètres de départ\n",
    "parStart = np.array([1])\n",
    "\n",
    "# Données observées\n",
    "Yobs = np.array(df['t_mes'])\n",
    "Xobs = np.array(df['h'])\n",
    "\n",
    "# Écart type des observations \n",
    "sigOBS = 0.1\n",
    "\n",
    "# Optimisation de la régression non linéaire\n",
    "result = least_squares(myResids_fn, parStart, args=(Yobs, Xobs))\n",
    "\n",
    "# Les paramètres estimés\n",
    "estimated_params = result.x\n",
    "\n",
    "print(\"Paramètres estimés:\", estimated_params)\n"
   ]
  },
  {
   "cell_type": "code",
   "execution_count": 6,
   "metadata": {},
   "outputs": [
    {
     "name": "stdout",
     "output_type": "stream",
     "text": [
      "(6,)\n",
      "(6,)\n",
      "Paramètres estimés (beta_num): [9.52309357]\n",
      "Matrice Q.num: [[0.0822517]]\n",
      "qpred: [       nan 0.00693542 0.00980816 0.0120125  0.01387084 0.01550807\n",
      " 0.01698824 0.0183494  0.01961633 0.02080626 0.02193172 0.02300219\n",
      " 0.024025   0.02500601 0.02594997 0.02686077 0.02774168 0.02859547\n",
      " 0.02942449 0.03023079 0.03101614 0.03178209 0.03253    0.03326111\n",
      " 0.03397648 0.0346771  0.03536384 0.0360375  0.03669879 0.03734838\n",
      " 0.03798686 0.03861478 0.03923266 0.03984095 0.0404401  0.0410305\n",
      " 0.04161252 0.04218651 0.0427528  0.04331168 0.04386345 0.04440836\n",
      " 0.04494666 0.04547859 0.04600437 0.04652421 0.04703831 0.04754684\n",
      " 0.04805    0.04854794 0.04904082 0.04952881 0.05001202 0.05049062\n",
      " 0.05096472 0.05143445 0.05189993 0.05236127 0.05281858 0.05327197\n",
      " 0.05372153 0.05416736 0.05460955 0.05504819 0.05548336 0.05591514\n",
      " 0.05634362 0.05676886 0.05719094 0.05760992 0.05802589 0.05843889\n",
      " 0.05884899 0.05925625 0.05966074 0.0600625  0.06046159 0.06085806\n",
      " 0.06125197 0.06164336 0.06203228 0.06241878 0.0628029  0.06318468\n",
      " 0.06356417 0.06394141 0.06431644 0.06468929 0.06506001 0.06542862\n",
      " 0.06579517 0.06615969 0.06652221 0.06688277 0.06724139 0.06759811\n",
      " 0.06795296 0.06830596 0.06865715 0.06900656]\n",
      "bmf: [[       nan        nan        nan ...        nan        nan        nan]\n",
      " [       nan 0.10024021 0.10033954 ... 0.10234125 0.10235314 0.10236498]\n",
      " [       nan 0.10033954 0.10047985 ... 0.10329548 0.10331215 0.10332874]\n",
      " ...\n",
      " [       nan 0.10234125 0.10329548 ... 0.12110204 0.12120104 0.12129946]\n",
      " [       nan 0.10235314 0.10331215 ... 0.12120104 0.12130047 0.12139932]\n",
      " [       nan 0.10236498 0.10332874 ... 0.12129946 0.12139932 0.12149858]]\n"
     ]
    },
    {
     "name": "stderr",
     "output_type": "stream",
     "text": [
      "/opt/anaconda3/lib/python3.9/site-packages/autograd/numpy/numpy_vjps.py:98: RuntimeWarning: divide by zero encountered in power\n",
      "  defvjp(anp.sqrt,    lambda ans, x : lambda g: g * 0.5 * x**-0.5)\n",
      "/opt/anaconda3/lib/python3.9/site-packages/autograd/numpy/numpy_vjps.py:52: RuntimeWarning: invalid value encountered in multiply\n",
      "  lambda ans, x, y : unbroadcast_f(y, lambda g: - g * x / y**2))\n"
     ]
    }
   ],
   "source": [
    "import numpy as np\n",
    "import autograd.numpy as anp\n",
    "from autograd import jacobian, grad\n",
    "from scipy.optimize import least_squares\n",
    "from numdifftools import Hessian\n",
    "\n",
    "# Paramètres\n",
    "beta = 1\n",
    "\n",
    "\n",
    "# Fonction \n",
    "def Ycode_Fn(XX, beta): \n",
    "    return anp.sqrt((2*XX)/beta)\n",
    "\n",
    "# Données observées\n",
    "Yobs = np.array(df['t_mes'])\n",
    "print(Yobs.shape)\n",
    "Xobs = np.array(df['h'])\n",
    "print(Xobs.shape)\n",
    "sigOBS = 0.1\n",
    "Xplot = np.array(np.linspace(0,100, 100)) \n",
    "\n",
    "# Paramètres de départ\n",
    "beta_start = np.array([beta])\n",
    "\n",
    "# Fonction des résidus\n",
    "def myResids_fn(beta, observed, XX):\n",
    "    return (observed - Ycode_Fn(XX=XX, beta=beta)) / sigOBS\n",
    "\n",
    "# Fonction pour calculer le hessien numériquement\n",
    "def fun_hess(beta):\n",
    "    return Hessian(lambda x: np.sum(myResids_fn(x, Yobs, Xobs)**2))(beta)\n",
    "\n",
    "# Optimisation de la régression non linéaire avec scipy.optimize\n",
    "result = least_squares(myResids_fn, beta_start, args=(Yobs, Xobs), jac='2-point')\n",
    "\n",
    "# Calcul du hessien avec la fonction fun_hess\n",
    "# Calculateur de hessien avec la fonction fun_hess\n",
    "hess_calc = Hessian(lambda beta: np.sum(myResids_fn(beta, Yobs, Xobs)**2))\n",
    "hess = hess_calc(result.x)\n",
    "\n",
    "# Paramètres estimés\n",
    "beta_num = result.x\n",
    "\n",
    "\n",
    "# Calcul de la matrice hessienne\n",
    "hessian = result.jac\n",
    "Q_num = np.linalg.inv(np.dot(hessian.T, hessian))\n",
    "\n",
    "# Calcul du gradient de Ycode.Fn\n",
    "hnew = []\n",
    "[hnew.append(grad(Ycode_Fn, argnum=1)(x, beta_num)) for x in Xplot]\n",
    "hnew = np.array(hnew).reshape(100, 1)\n",
    "\n",
    "# Calcul de qpred\n",
    "qpred = np.sqrt(hnew * (np.dot(Q_num, hnew.T).T))\n",
    "qpred = qpred.reshape((100,))\n",
    "# Calcul de bmf\n",
    "bmf = np.sqrt(sigOBS**2 + np.dot(hnew, np.dot(Q_num, hnew.T)))\n",
    "\n",
    "print(\"Paramètres estimés (beta_num):\", beta_num)\n",
    "print(\"Matrice Q.num:\", Q_num)\n",
    "print(\"qpred:\", qpred)\n",
    "print(\"bmf:\", bmf)\n"
   ]
  },
  {
   "cell_type": "code",
   "execution_count": 7,
   "metadata": {},
   "outputs": [
    {
     "data": {
      "image/png": "[encoded data removed]",
      "text/plain": [
       "<Figure size 432x288 with 1 Axes>"
      ]
     },
     "metadata": {
      "needs_background": "light"
     },
     "output_type": "display_data"
    }
   ],
   "source": [
    "import numpy as np\n",
    "import matplotlib.pyplot as plt\n",
    "import matplotlib.patches as patches\n",
    "\n",
    "# Données observées\n",
    "Yobs = np.array(df['t_mes'])\n",
    "Xobs = np.array(df['h'])\n",
    "sigOBS = np.std(Yobs)\n",
    "Xplot = np.linspace(0, 100, 100)\n",
    "\n",
    "# Paramètres de prédiction\n",
    "myPred = Ycode_Fn(Xplot, beta_num)\n",
    "\n",
    "\n",
    "# Création de la figure et des axes\n",
    "fig, ax = plt.subplots()\n",
    "\n",
    "# Plot des erreurs\n",
    "ax.errorbar(Xobs, Yobs, yerr=0.5*sigOBS, fmt='o', color='#6DC048', markersize=6, label='Observations')\n",
    "\n",
    "# Plot de la prédiction et de l'intervalle de confiance\n",
    "\n",
    "lower_bound = myPred + 1.96 * qpred * sigOBS\n",
    "upper_bound = myPred - 1.96 * qpred * sigOBS\n",
    "\n",
    "ax.plot(Xplot, myPred, color='red', linewidth=2, label='Predicted Response')\n",
    "ax.fill_between(Xplot, lower_bound, upper_bound, color='red', alpha=0.25, label='Confidence Interval')\n",
    "\n",
    "\n",
    "# Paramètres d'axe et de légende\n",
    "ax.set_xlabel('hauteur de chute (mm)')\n",
    "ax.set_ylabel('temps de chute(mm)')\n",
    "ax.set_xlim(0.0, 100)\n",
    "#ax.set_ylim(-12.0, 0.0)\n",
    "ax.legend(loc='upper right')\n",
    "\n",
    "# Ajout de la grille\n",
    "ax.grid(True)\n",
    "\n",
    "# Affichage de la figure\n",
    "plt.show()\n"
   ]
  }
 ],
 "metadata": {
  "interpreter": {
   "hash": "aee8b7b246df8f9039afb4144a1f6fd8d2ca17a180786b69acc140d282b71a49"
  },
  "kernelspec": {
   "display_name": "Python 3.10.2 64-bit",
   "language": "python",
   "name": "python3"
  },
  "language_info": {
   "codemirror_mode": {
    "name": "ipython",
    "version": 3
   },
   "file_extension": ".py",
   "mimetype": "text/x-python",
   "name": "python",
   "nbconvert_exporter": "python",
   "pygments_lexer": "ipython3",
   "version": "3.9.12"
  },
  "orig_nbformat": 4
 },
 "nbformat": 4,
 "nbformat_minor": 2
}
